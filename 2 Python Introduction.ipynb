{
 "cells": [
  {
   "cell_type": "markdown",
   "metadata": {
    "slideshow": {
     "slide_type": "slide"
    }
   },
   "source": [
    "\n",
    "<img src=\"python-logo-master-v3-TM.png\" style='width:50%;'>\n",
    "\n",
    "## Table of contents\n",
    "1. Variables\n",
    "2. Keyboard input\n",
    "3. IF conditions\n",
    "4. Lists\n",
    "5. Nesting\n",
    "6. Numpy\n",
    "7. Homework\n"
   ]
  },
  {
   "cell_type": "markdown",
   "metadata": {
    "slideshow": {
     "slide_type": "slide"
    }
   },
   "source": [
    "# Introduction\n",
    "* Python is an interpreted language\n",
    "    * You can run one line at a time\n",
    "    * but again, you don't have to, you can write scripts\n",
    "* You don't have to define types, just use your variables\n",
    "* You don't have to reserve memory for anything\n",
    "* Watch your spaces - indentation (uvlačenje) is Python's only syntax\n",
    "```\n",
    "bla\n",
    "blabla\n",
    "```\n",
    "is not the same as\n",
    "```\n",
    "bla\n",
    "    blabla\n",
    "```"
   ]
  },
  {
   "cell_type": "markdown",
   "metadata": {
    "slideshow": {
     "slide_type": "slide"
    }
   },
   "source": [
    "# Variables"
   ]
  },
  {
   "cell_type": "code",
   "execution_count": 2,
   "metadata": {
    "slideshow": {
     "slide_type": "-"
    }
   },
   "outputs": [
    {
     "name": "stdout",
     "output_type": "stream",
     "text": [
      "Variable types\n",
      "Integer 2\n",
      "Float 2.0\n",
      "String 2\n",
      "Boolean True\n",
      "Complex (1+1j)\n"
     ]
    }
   ],
   "source": [
    "a_1 = 2    # Integer - prirodni broj\n",
    "a_2 = 2.   # Float   - realni broj\n",
    "a_3 = '2'  # String  - slovo ili rečenica\n",
    "a_4 = True # Boolean - True/False\n",
    "a_5 = 1+1j # Complex - kompleksni broj\n",
    "print('Variable types')\n",
    "print('Integer', a_1)\n",
    "print('Float',   a_2)\n",
    "print('String',  a_3)\n",
    "print('Boolean', a_4)\n",
    "print('Complex', a_5)"
   ]
  },
  {
   "cell_type": "markdown",
   "metadata": {
    "slideshow": {
     "slide_type": "slide"
    }
   },
   "source": [
    "### What can we do with them?\n"
   ]
  },
  {
   "cell_type": "code",
   "execution_count": 3,
   "metadata": {
    "slideshow": {
     "slide_type": "-"
    }
   },
   "outputs": [
    {
     "name": "stdout",
     "output_type": "stream",
     "text": [
      "0\t2\t3\t6\t4\n",
      "1\t2.0\t3.0\t6.0\t4.0\n",
      "2\t2\t222\n",
      "3\tTrue\tFalse\n"
     ]
    }
   ],
   "source": [
    "a_1 = 2    # Integer - prirodni broj\n",
    "a_2 = 2.   # Float   - realni broj\n",
    "a_3 = '2'  # String  - slovo ili rečenica\n",
    "a_4 = True # Boolean - True/False\n",
    "print(0, a_1, a_1+1, a_1*3, a_1**2, sep='\\t')\n",
    "print(1, a_2, a_2+1, a_2*3, a_2**2, sep='\\t')\n",
    "print(2, a_3, a_3*3,                sep='\\t')\n",
    "print(3, a_4, not a_4,              sep='\\t')"
   ]
  },
  {
   "cell_type": "markdown",
   "metadata": {
    "slideshow": {
     "slide_type": "slide"
    }
   },
   "source": [
    "We can convert types as well"
   ]
  },
  {
   "cell_type": "code",
   "execution_count": 4,
   "metadata": {},
   "outputs": [
    {
     "name": "stdout",
     "output_type": "stream",
     "text": [
      "2.0\t -> 2\n",
      "2\t -> 2.0\n",
      "True\t -> 1\n",
      "False\t -> 0\n"
     ]
    }
   ],
   "source": [
    "a_1 = 2    # Integer - prirodni broj\n",
    "a_2 = 2.   # Float   - realni broj\n",
    "a_3 = '2'  # String  - slovo ili rečenica\n",
    "a_4 = True # Boolean - True/False\n",
    "print(a_2, int(a_2),         sep='\\t -> ')\n",
    "print(a_1,float(a_1),        sep='\\t -> ')\n",
    "print(a_4, int(a_4),         sep='\\t -> ')\n",
    "print(not a_4, int(not a_4), sep='\\t -> ')"
   ]
  },
  {
   "cell_type": "markdown",
   "metadata": {
    "slideshow": {
     "slide_type": "slide"
    }
   },
   "source": [
    "# Keyboard input\n",
    "```python \n",
    "input() ```\n",
    "Your input is a string"
   ]
  },
  {
   "cell_type": "code",
   "execution_count": 5,
   "metadata": {},
   "outputs": [
    {
     "name": "stdout",
     "output_type": "stream",
     "text": [
      "Enter an integer number 12\n",
      "Your number is\t12\n",
      "Its type is\t<class 'str'>\n"
     ]
    }
   ],
   "source": [
    "x = input('Enter an integer number ')\n",
    "print('Your number is', x,       sep='\\t')\n",
    "print('Its type is',    type(x), sep='\\t')"
   ]
  },
  {
   "cell_type": "markdown",
   "metadata": {
    "slideshow": {
     "slide_type": "slide"
    }
   },
   "source": [
    "We need to convert it before use."
   ]
  },
  {
   "cell_type": "code",
   "execution_count": 7,
   "metadata": {},
   "outputs": [
    {
     "name": "stdout",
     "output_type": "stream",
     "text": [
      "Enter an integer number 12\n",
      "Your number is\t12\n",
      "Its type is\t<class 'int'>\n"
     ]
    }
   ],
   "source": [
    "x = input('Enter an integer number ')\n",
    "x = int(x)\n",
    "print('Your number is', x,       sep='\\t')\n",
    "print('Its type is',    type(x), sep='\\t')"
   ]
  },
  {
   "cell_type": "markdown",
   "metadata": {
    "slideshow": {
     "slide_type": "slide"
    }
   },
   "source": [
    "# IF conditions\n",
    "```python\n",
    "if True:\n",
    "    # do something\n",
    "else:\n",
    "    # do something else\n",
    "```\n",
    "\n",
    "### Task 1\n",
    "Write a program that requires you to input a number by hand.\n",
    "\n",
    "If its square is greater than 50, print 'True',otherwise print 'False'\n",
    "\n",
    "&nbsp;\n",
    "\n",
    "&nbsp;\n",
    "\n",
    "&nbsp;\n",
    "Your solution...\n",
    "&nbsp;\n",
    "\n",
    "&nbsp;\n",
    "\n",
    "&nbsp;\n",
    "\n",
    "&nbsp;\n",
    "\n",
    "&nbsp;\n",
    "\n",
    "&nbsp;\n",
    "\n",
    "&nbsp;\n",
    "\n",
    "&nbsp;"
   ]
  },
  {
   "cell_type": "markdown",
   "metadata": {
    "slideshow": {
     "slide_type": "slide"
    }
   },
   "source": [
    "### Solution"
   ]
  },
  {
   "cell_type": "code",
   "execution_count": 8,
   "metadata": {
    "slideshow": {
     "slide_type": "-"
    }
   },
   "outputs": [
    {
     "name": "stdout",
     "output_type": "stream",
     "text": [
      "Insert an integer number 12\n",
      "True\n"
     ]
    }
   ],
   "source": [
    "x = input('Insert an integer number ')\n",
    "x = int(x)\n",
    "if x**2>50:\n",
    "    print('True')\n",
    "else:\n",
    "    print('False')"
   ]
  },
  {
   "cell_type": "markdown",
   "metadata": {
    "slideshow": {
     "slide_type": "slide"
    }
   },
   "source": [
    "Let's say the user is careless and inserts 'a' instead of a number. What will happen?\n",
    "Can we help the user a bit? \n",
    "\n",
    "1. They make an error that would otherwise crash the program\n",
    "2. Python $\\color{red}{tries}$ to execute the code\n",
    "3. Python fails - this is an $\\color{red}{exception}$\n"
   ]
  },
  {
   "cell_type": "code",
   "execution_count": 11,
   "metadata": {},
   "outputs": [
    {
     "name": "stdout",
     "output_type": "stream",
     "text": [
      "Insert an integer number a\n",
      "Try again, wrong input:  a is not a number!\n"
     ]
    }
   ],
   "source": [
    "x = input('Insert an integer number ')\n",
    "try:\n",
    "    x = int(x)\n",
    "    if x**2>50:\n",
    "        print('True')\n",
    "    else:\n",
    "        print('False')\n",
    "except:\n",
    "    print('Try again, wrong input: ', x, 'is not a number!')"
   ]
  },
  {
   "cell_type": "markdown",
   "metadata": {
    "slideshow": {
     "slide_type": "slide"
    }
   },
   "source": [
    "# Lists\n",
    "List is a collection of elements, regardless of their type"
   ]
  },
  {
   "cell_type": "code",
   "execution_count": 12,
   "metadata": {},
   "outputs": [
    {
     "name": "stdout",
     "output_type": "stream",
     "text": [
      "[2, 2.0, '2', True]\n"
     ]
    }
   ],
   "source": [
    "a = [2, 2., '2', True]\n",
    "print(a)"
   ]
  },
  {
   "cell_type": "markdown",
   "metadata": {},
   "source": [
    "We can use for loops to go over the list"
   ]
  },
  {
   "cell_type": "code",
   "execution_count": 13,
   "metadata": {},
   "outputs": [
    {
     "name": "stdout",
     "output_type": "stream",
     "text": [
      "4\n",
      "4.0\n",
      "9\n",
      "16\n"
     ]
    }
   ],
   "source": [
    "A = [2, 2., 3, 4]\n",
    "for a in A:\n",
    "    print(a**2)"
   ]
  },
  {
   "cell_type": "markdown",
   "metadata": {
    "slideshow": {
     "slide_type": "slide"
    }
   },
   "source": [
    "Or access the elements directly with an index"
   ]
  },
  {
   "cell_type": "code",
   "execution_count": 14,
   "metadata": {},
   "outputs": [
    {
     "name": "stdout",
     "output_type": "stream",
     "text": [
      "0 2 3 6 4\n",
      "1 2.0 3.0 6.0 4.0\n",
      "2 3 4 9 9\n",
      "3 4 5 12 16\n"
     ]
    }
   ],
   "source": [
    "a = [2, 2., 3, 4]\n",
    "for i in range(4):\n",
    "    print(i, a[i], a[i]+1, a[i]*3, a[i]**2)"
   ]
  },
  {
   "cell_type": "markdown",
   "metadata": {
    "slideshow": {
     "slide_type": "slide"
    }
   },
   "source": [
    "### How about a truth table?"
   ]
  },
  {
   "cell_type": "code",
   "execution_count": 15,
   "metadata": {},
   "outputs": [
    {
     "name": "stdout",
     "output_type": "stream",
     "text": [
      "P\tQ\tP and Q\n",
      "True\tTrue\tTrue\n"
     ]
    }
   ],
   "source": [
    "P = [True, False, True, False]\n",
    "Q = [True, True, False, False]\n",
    "print('P\\tQ\\tP and Q')\n",
    "print(P[0], Q[0], P[0] and Q[0], sep='\\t')"
   ]
  },
  {
   "cell_type": "markdown",
   "metadata": {
    "slideshow": {
     "slide_type": "slide"
    }
   },
   "source": [
    "### Task 2\n",
    "Write a program that prints out the whole truth table for $P\\land Q$\n",
    "\n",
    "&nbsp;\n",
    "\n",
    "&nbsp;\n",
    "\n",
    "&nbsp;\n",
    "Your solution...\n",
    "&nbsp;\n",
    "\n",
    "&nbsp;\n",
    "\n",
    "&nbsp;\n",
    "\n",
    "&nbsp;\n",
    "\n",
    "&nbsp;\n",
    "\n",
    "&nbsp;\n",
    "\n",
    "&nbsp;\n",
    "\n",
    "&nbsp;"
   ]
  },
  {
   "cell_type": "markdown",
   "metadata": {
    "slideshow": {
     "slide_type": "slide"
    }
   },
   "source": [
    "### Solution"
   ]
  },
  {
   "cell_type": "code",
   "execution_count": 16,
   "metadata": {},
   "outputs": [
    {
     "name": "stdout",
     "output_type": "stream",
     "text": [
      "P\tQ\tP and Q\n",
      "True\tTrue\tTrue\n",
      "False\tTrue\tFalse\n",
      "True\tFalse\tFalse\n",
      "False\tFalse\tFalse\n"
     ]
    }
   ],
   "source": [
    "P = [True, False, True, False]\n",
    "Q = [True, True, False, False]\n",
    "print('P\\tQ\\tP and Q')\n",
    "for i in range(4):\n",
    "    print(P[i],  Q[i], P[i] and Q[i], sep='\\t')"
   ]
  },
  {
   "cell_type": "markdown",
   "metadata": {
    "slideshow": {
     "slide_type": "slide"
    }
   },
   "source": [
    "# Nesting\n",
    "Lists can be combined into lists"
   ]
  },
  {
   "cell_type": "code",
   "execution_count": 17,
   "metadata": {},
   "outputs": [
    {
     "name": "stdout",
     "output_type": "stream",
     "text": [
      "[[1, 2], [3, 4]]\n"
     ]
    }
   ],
   "source": [
    "A = [[1, 2],\n",
    "     [3, 4]]\n",
    "print(A)"
   ]
  },
  {
   "cell_type": "markdown",
   "metadata": {
    "slideshow": {
     "slide_type": "-"
    }
   },
   "source": [
    "What hapens when we index a list of lists?\n",
    "```python\n",
    "print(A[0])\n",
    "print(A[0][0])\n",
    "```"
   ]
  },
  {
   "cell_type": "markdown",
   "metadata": {
    "slideshow": {
     "slide_type": "slide"
    }
   },
   "source": [
    "# Numpy "
   ]
  },
  {
   "cell_type": "markdown",
   "metadata": {
    "slideshow": {
     "slide_type": "-"
    }
   },
   "source": [
    "Lists are nice, but they have some strange properties"
   ]
  },
  {
   "cell_type": "code",
   "execution_count": 18,
   "metadata": {},
   "outputs": [
    {
     "name": "stdout",
     "output_type": "stream",
     "text": [
      "[[1, 2], [3, 4], [1, 2], [3, 4]]\n"
     ]
    }
   ],
   "source": [
    "print(2*A)"
   ]
  },
  {
   "cell_type": "code",
   "execution_count": 19,
   "metadata": {},
   "outputs": [
    {
     "ename": "TypeError",
     "evalue": "can only concatenate list (not \"int\") to list",
     "output_type": "error",
     "traceback": [
      "\u001b[0;31m---------------------------------------------------------------------------\u001b[0m",
      "\u001b[0;31mTypeError\u001b[0m                                 Traceback (most recent call last)",
      "\u001b[0;32m<ipython-input-19-36bbf9a544ec>\u001b[0m in \u001b[0;36m<module>\u001b[0;34m()\u001b[0m\n\u001b[0;32m----> 1\u001b[0;31m \u001b[0mprint\u001b[0m\u001b[0;34m(\u001b[0m\u001b[0mA\u001b[0m\u001b[0;34m+\u001b[0m\u001b[0;36m1\u001b[0m\u001b[0;34m)\u001b[0m\u001b[0;34m\u001b[0m\u001b[0m\n\u001b[0m",
      "\u001b[0;31mTypeError\u001b[0m: can only concatenate list (not \"int\") to list"
     ]
    }
   ],
   "source": [
    "print(A+1)"
   ]
  },
  {
   "cell_type": "markdown",
   "metadata": {
    "slideshow": {
     "slide_type": "slide"
    }
   },
   "source": [
    "We'd like to use them to represent vectors, images, etc.\n",
    "\n",
    "* Mathematically, a 2D vector ($F$) is a collection of elements $(F_x, F_y)\\in\\mathbb{R}^2$ that has two nice operations that produce a vector\n",
    "  * addition of two vectors\n",
    "  \\begin{equation}\n",
    "\\mathbf{F}+\\mathbf{G}=(F_x+G_x) \\mathbf{i}+(F_y+G_y)\\mathbf{j}\n",
    "\\end{equation}\n",
    "  * multiplication by a constant number\n",
    "  \\begin{equation}\n",
    "c\\mathbf{F}=(cF_x) \\mathbf{i}+(cF_y)\\mathbf{j}\n",
    "\\end{equation}\n",
    "\n",
    "&nbsp;\n",
    "\n",
    "\n",
    "* Physically, vectors represent quantities that are directed in space, like force (sila)\n",
    "\\begin{equation}\n",
    "\\mathbf{F}=F_x \\mathbf{i}+F_y\\mathbf{j}= \\mathbf{i}\n",
    "\\end{equation}\n",
    "\n",
    "&nbsp;\n",
    "\n",
    "\n",
    "What if we wanted to e.g. double the strength of a force in the $x$ direction from 1 to 2 Newtons?\n",
    "\\begin{equation}\n",
    "2\\mathbf{F}=2F_x \\mathbf{i}+2F_y\\mathbf{j}=2\\mathbf{i}\n",
    "\\end{equation}"
   ]
  },
  {
   "cell_type": "code",
   "execution_count": 20,
   "metadata": {
    "slideshow": {
     "slide_type": "slide"
    }
   },
   "outputs": [],
   "source": [
    "F = [1, # This is the x direction\n",
    "     0] # There's nothing acting in they direction\n",
    "# 2*F doesn't do the right thing"
   ]
  },
  {
   "cell_type": "markdown",
   "metadata": {
    "slideshow": {
     "slide_type": "-"
    }
   },
   "source": [
    "We'll need a library for that called numpy"
   ]
  },
  {
   "cell_type": "code",
   "execution_count": 21,
   "metadata": {
    "slideshow": {
     "slide_type": "-"
    }
   },
   "outputs": [
    {
     "name": "stdout",
     "output_type": "stream",
     "text": [
      "[2 0]\n"
     ]
    }
   ],
   "source": [
    "import numpy as np\n",
    "F = [1, 0]\n",
    "F = np.array(F)\n",
    "print(2*F)"
   ]
  },
  {
   "cell_type": "markdown",
   "metadata": {
    "slideshow": {
     "slide_type": "-"
    }
   },
   "source": [
    "Now, let's say that we find an additional component of $7\\,\\mathrm{N}$ in the $y$ direction\n",
    "$\\mathbf{F}= \\mathbf{i}+7\\mathbf{j}$"
   ]
  },
  {
   "cell_type": "code",
   "execution_count": 22,
   "metadata": {},
   "outputs": [
    {
     "name": "stdout",
     "output_type": "stream",
     "text": [
      "[1 7]\n"
     ]
    }
   ],
   "source": [
    "F = np.array([1, 0])\n",
    "F[1] = 7\n",
    "print(F)"
   ]
  },
  {
   "cell_type": "markdown",
   "metadata": {
    "slideshow": {
     "slide_type": "slide"
    }
   },
   "source": [
    "We can also do some operations on it:\n",
    "1. $F_x+F_y$\n",
    "```python\n",
    "print('F_x+F_y=', np.sum(F))\n",
    "```\n",
    "2. $[F_x^3, F_y^3]$\n",
    "```python\n",
    "print('F_x^3, F_y^3=', F**3)\n",
    "```\n",
    "3. Even $[F_x^{F_x}, F_y^{F_y}]$\n",
    "```python\n",
    "print('F_x^F_x, F_y^F_y=', F**F)\n",
    "```"
   ]
  },
  {
   "cell_type": "markdown",
   "metadata": {
    "slideshow": {
     "slide_type": "slide"
    }
   },
   "source": [
    "### Task 3\n",
    "Every vector has a norm. Make a program that will take a vector \n",
    "\\begin{equation}\n",
    "\\mathbf{F}=F_x \\mathbf{i}+F_y\\mathbf{j}\n",
    "\\end{equation}\n",
    "and compute\n",
    "\\begin{equation}\n",
    "|\\mathbf{F}| = \\sqrt{F_x^2+F_y^2}\n",
    "\\end{equation}\n",
    "Try using functions np.sqrt and np.sum\n",
    "\n",
    "&nbsp;\n",
    "\n",
    "&nbsp;\n",
    "\n",
    "&nbsp;\n",
    "Your solution...\n",
    "&nbsp;\n",
    "\n",
    "&nbsp;\n",
    "\n",
    "&nbsp;\n",
    "\n",
    "&nbsp;\n",
    "\n",
    "&nbsp;\n",
    "\n",
    "&nbsp;\n",
    "\n",
    "&nbsp;\n",
    "\n",
    "&nbsp;"
   ]
  },
  {
   "cell_type": "markdown",
   "metadata": {
    "slideshow": {
     "slide_type": "slide"
    }
   },
   "source": [
    "### Solution"
   ]
  },
  {
   "cell_type": "code",
   "execution_count": 23,
   "metadata": {
    "slideshow": {
     "slide_type": "-"
    }
   },
   "outputs": [
    {
     "name": "stdout",
     "output_type": "stream",
     "text": [
      "Norma =  7.07106781187\n"
     ]
    }
   ],
   "source": [
    "F = np.array([1, 7])\n",
    "print('Norma = ', np.sqrt(np.sum(F**2)))"
   ]
  },
  {
   "cell_type": "markdown",
   "metadata": {
    "slideshow": {
     "slide_type": "slide"
    }
   },
   "source": [
    "# Homework\n",
    "1. Expand the program to print 'Is exactly 50!' if $x^2=50$\n",
    "```python\n",
    "x = input('Insert an integer number ')\n",
    "try:\n",
    "    x = int(x)\n",
    "    if x**2>50:\n",
    "        print('True')\n",
    "    else:\n",
    "        print('False')\n",
    "except:\n",
    "    print('Try again, wrong input')\n",
    "```\n",
    "2. Expand the truth table to print both $P\\land\\lnot Q$ and $P\\lor Q$\n",
    "3. Modify the following program to print out a numpy array of numbers: $[x, x^2, x^3,\\cdots, x^9]$ for a given number $x$\n",
    "```python\n",
    "X = np.array(4*[2])\n",
    "Y = np.array([4, 3, 2, 1])\n",
    "print(X**Y)\n",
    "```"
   ]
  }
 ],
 "metadata": {
  "celltoolbar": "Slideshow",
  "kernelspec": {
   "display_name": "Python 3",
   "language": "python",
   "name": "python3"
  },
  "language_info": {
   "codemirror_mode": {
    "name": "ipython",
    "version": 3
   },
   "file_extension": ".py",
   "mimetype": "text/x-python",
   "name": "python",
   "nbconvert_exporter": "python",
   "pygments_lexer": "ipython3",
   "version": "3.6.3"
  }
 },
 "nbformat": 4,
 "nbformat_minor": 2
}
