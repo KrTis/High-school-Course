{
 "cells": [
  {
   "cell_type": "markdown",
   "metadata": {
    "slideshow": {
     "slide_type": "slide"
    }
   },
   "source": [
    "# 4. Working with images"
   ]
  },
  {
   "cell_type": "code",
   "execution_count": 9,
   "metadata": {
    "slideshow": {
     "slide_type": "-"
    }
   },
   "outputs": [
    {
     "name": "stderr",
     "output_type": "stream",
     "text": [
      "WARNING: VerifyWarning: Invalid 'BLANK' keyword in header.  The 'BLANK' keyword is only applicable to integer data, and will be ignored in this HDU. [astropy.io.fits.hdu.image]\n"
     ]
    }
   ],
   "source": [
    "from astropy.io import fits\n",
    "name  = '0001_150.00256000_2.25863000_vla_20cm_lg_tan_10.fits'\n",
    "image = fits.open(name)[0].data\n",
    "head  = fits.open(name)[0].header"
   ]
  },
  {
   "cell_type": "markdown",
   "metadata": {
    "slideshow": {
     "slide_type": "slide"
    }
   },
   "source": [
    "Who wrote it?"
   ]
  },
  {
   "cell_type": "code",
   "execution_count": 8,
   "metadata": {},
   "outputs": [
    {
     "data": {
      "text/plain": [
       "SIMPLE  =                    T                                                  \n",
       "BITPIX  =                  -32                                                  \n",
       "NAXIS   =                    2                                                  \n",
       "NAXIS1  =                   44                                                  \n",
       "NAXIS2  =                   44                                                  \n",
       "EXTEND  =                    T / Tables following main image                    \n",
       "COMMENT   FITS (Flexible Image Transport System) format is defined in 'Astronomy\n",
       "COMMENT   and Astrophysics', volume 376, page 359; bibcode: 2001A&A...376..359H \n",
       "NAXIS3  =                    1                                                  \n",
       "NAXIS4  =                    1                                                  \n",
       "BLOCKED =                    T / Tape may be blocked                            \n",
       "OBJECT  = 'COSMOS_F'           / Source name                                    \n",
       "TELESCOP= 'VLA     '                                                            \n",
       "INSTRUME= 'VLA     '                                                            \n",
       "OBSERVER= 'AS801   '                                                            \n",
       "DATE-OBS= '2004-09-23'         / Obs start date YYYY-MM-DD                      \n",
       "DATE-MAP= '2006-05-17'         / Last processing date YYYY-MM-DD                \n",
       "BSCALE  =    1.00000000000E+00 / REAL = TAPE * BSCALE + BZERO                   \n",
       "BZERO   =    0.00000000000E+00                                                  \n",
       "BUNIT   = 'JY/BEAM '           / Units of flux                                  \n",
       "EPOCH   =      2.000000000E+03 / Epoch of RA DEC                                \n",
       "BLANK   =                   -1 / IEEE not-a-number for blanked pixels           \n",
       "VELREF  =                    3 / >256 RADIO, 1 LSR 2 HEL 3 OBS                  \n",
       "ALTRPIX =      1.083333373E+00 / Altenate FREQ/VEL ref pixel                    \n",
       "OBSRA   =    1.50619458333E+02 / Antenna pointing RA                            \n",
       "OBSDEC  =    2.63884444444E+00 / Antenna pointing DEC                           \n",
       "DATAMAX =      3.234239295E-02 / Maximum pixel value                            \n",
       "DATAMIN =     -1.613868866E-03 / Minimum pixel value                            \n",
       "CTYPE1  = 'RA---TAN'                                                            \n",
       "CRVAL1  =    1.50119118021E+02                                                  \n",
       "CDELT1  =     -9.722221876E-05                                                  \n",
       "CRPIX1  =              -1175.5                                                  \n",
       "CROTA1  =      0.000000000E+00                                                  \n",
       "CTYPE2  = 'DEC--TAN'                                                            \n",
       "CRVAL2  =    2.20578472222E+00                                                  \n",
       "CDELT2  =      9.722221876E-05                                                  \n",
       "CRPIX2  =               -520.5                                                  \n",
       "CROTA2  =      0.000000000E+00                                                  \n",
       "CTYPE3  = 'FREQ    '                                                            \n",
       "CRVAL3  =    1.43353750000E+09                                                  \n",
       "CDELT3  =      1.875000000E+07                                                  \n",
       "CRPIX3  =      1.000000000E+00                                                  \n",
       "CROTA3  =      0.000000000E+00                                                  \n",
       "CTYPE4  = 'STOKES  '                                                            \n",
       "CRVAL4  =   -1.00000000000E+00                                                  \n",
       "CDELT4  =      1.000000000E+00                                                  \n",
       "CRPIX4  =      1.000000000E+00                                                  \n",
       "CROTA4  =      0.000000000E+00                                                  \n",
       "ORIGIN  = 'AIPSaida8        UN-REGISTERED!!!!!!! 31DEC05'                       \n",
       "DATE    = '2006-05-17'         / File written on Greenwich yyyy-mm-dd           \n",
       "COMMENT   FITS (Flexible Image Transport System) format is defined in 'Astronomy\n",
       "COMMENT   and Astrophysics', volume 376, page 359; bibcode: 2001A&A...376..359H "
      ]
     },
     "execution_count": 8,
     "metadata": {},
     "output_type": "execute_result"
    }
   ],
   "source": [
    "head"
   ]
  },
  {
   "cell_type": "markdown",
   "metadata": {
    "slideshow": {
     "slide_type": "slide"
    }
   },
   "source": [
    "What is an image?\n",
    "\n",
    "Image is a collection of values for different $x$ and $y$ coordinates"
   ]
  },
  {
   "cell_type": "code",
   "execution_count": 31,
   "metadata": {},
   "outputs": [
    {
     "data": {
      "text/plain": [
       "array([[ -8.70451004e-06,  -7.03605656e-06,  -9.61110800e-06, ...,\n",
       "         -2.11844035e-05,  -7.37752634e-06,   7.76577679e-07],\n",
       "       [  4.06806839e-06,   8.79416348e-06,   6.58952240e-06, ...,\n",
       "         -2.17131219e-05,  -2.04164917e-06,   8.11418522e-06],\n",
       "       [  8.91225500e-06,   1.76336980e-05,   1.79761319e-05, ...,\n",
       "         -1.59561550e-05,   4.33084642e-06,   1.55305715e-05],\n",
       "       ..., \n",
       "       [  2.18399182e-05,   1.96641231e-05,   5.25467613e-06, ...,\n",
       "          1.57720260e-05,   5.22840810e-06,   1.58473347e-06],\n",
       "       [  6.44916599e-06,   5.88442708e-06,  -1.28183626e-06, ...,\n",
       "          1.05489908e-05,   5.39193024e-07,  -2.78830476e-06],\n",
       "       [ -8.53112851e-06,  -9.84953294e-06,  -1.01972282e-05, ...,\n",
       "          7.38618610e-06,   1.27170281e-07,  -4.48623496e-06]], dtype=float32)"
      ]
     },
     "execution_count": 31,
     "metadata": {},
     "output_type": "execute_result"
    }
   ],
   "source": [
    "image"
   ]
  },
  {
   "cell_type": "code",
   "execution_count": 13,
   "metadata": {
    "slideshow": {
     "slide_type": "slide"
    }
   },
   "outputs": [
    {
     "data": {
      "image/png": "[encoded data removed]",
      "text/plain": [
       "<matplotlib.figure.Figure at 0x118c16550>"
      ]
     },
     "execution_count": 13,
     "metadata": {},
     "output_type": "execute_result"
    }
   ],
   "source": [
    "import matplotlib.pyplot as plt\n",
    "f, ax = plt.subplots(1, 1)\n",
    "ax.imshow(image, origin='lower')\n",
    "f"
   ]
  },
  {
   "cell_type": "markdown",
   "metadata": {
    "slideshow": {
     "slide_type": "slide"
    }
   },
   "source": [
    "# What's on the axes?\n",
    "# What are the values?"
   ]
  },
  {
   "cell_type": "markdown",
   "metadata": {
    "slideshow": {
     "slide_type": "slide"
    }
   },
   "source": [
    "Let's add a colorbar\n"
   ]
  },
  {
   "cell_type": "code",
   "execution_count": 25,
   "metadata": {},
   "outputs": [
    {
     "data": {
      "image/png": "[encoded data removed]",
      "text/plain": [
       "<matplotlib.figure.Figure at 0x119fe5160>"
      ]
     },
     "execution_count": 25,
     "metadata": {},
     "output_type": "execute_result"
    }
   ],
   "source": [
    "import matplotlib.pyplot as plt\n",
    "f, ax = plt.subplots(1, 1)\n",
    "im=ax.imshow(image, origin='lower') # Colors are now stored in im\n",
    "col = plt.colorbar(im)              # values are now in the colorbar\n",
    "col.set_label('Flux ')              # Label\n",
    "f"
   ]
  },
  {
   "cell_type": "markdown",
   "metadata": {
    "slideshow": {
     "slide_type": "slide"
    }
   },
   "source": [
    "# Task 1\n",
    "1. Find the mean value of the flux in the image using np.mean()\n",
    "2. Find the minimum and maximum value of the flux\n",
    "3. How many pixels have fluxes above 0.003 Jy?\n",
    "4. What's the mean flux of that cutout?"
   ]
  },
  {
   "cell_type": "markdown",
   "metadata": {
    "slideshow": {
     "slide_type": "slide"
    }
   },
   "source": [
    "# Solution"
   ]
  },
  {
   "cell_type": "code",
   "execution_count": 30,
   "metadata": {},
   "outputs": [
    {
     "name": "stdout",
     "output_type": "stream",
     "text": [
      "Mean 5.23253e-05\n",
      "Max 0.00410531\n",
      "Min -0.00011534\n",
      "Number of px 8\n",
      "Mean flux 0.00362371\n"
     ]
    }
   ],
   "source": [
    "import numpy as np\n",
    "print('Mean', np.mean(image))\n",
    "print('Max', np.max(image))\n",
    "print('Min', np.min(image))\n",
    "print('Number of px', np.sum(image>0.003))\n",
    "print('Mean flux', np.mean(image[image>0.003]))"
   ]
  },
  {
   "cell_type": "markdown",
   "metadata": {
    "slideshow": {
     "slide_type": "slide"
    }
   },
   "source": [
    "# Homework\n",
    "1. What's the difference between luminosity and flux?\n",
    "2. Make a pandas table in the following way:\n",
    "    1. Count how many pixels have fluxes are above \n",
    "    [0.0005, 0.001, 0.0015, 0.002, 0.0025, 0.003]. That will be the first column\n",
    "    2. Second column should be the mean flux for each of the cutouts\n",
    "    3. Third column should be the number of pixels\n",
    "3. Plot the number of pixels vs. the mean flux\n",
    "4. Save the table to a fits file"
   ]
  },
  {
   "cell_type": "markdown",
   "metadata": {
    "slideshow": {
     "slide_type": "notes"
    }
   },
   "source": [
    "# Notes\n",
    "* For those who want to know a bit about fits files, see:\n",
    "https://www.aanda.org/articles/aa/pdf/2001/34/aah2901.pdf\n",
    "* If you're interested in the images, you can make new ones using: \n",
    "http://irsa.ipac.caltech.edu/data/COSMOS/index_cutouts.html\n",
    "\n",
    "* Images are part of the COSMOS Survey, you can find more about it here:\n",
    "    https://ui.adsabs.harvard.edu/#abs/2007ASPC..375..166S/abstract"
   ]
  }
 ],
 "metadata": {
  "celltoolbar": "Slideshow",
  "kernelspec": {
   "display_name": "Python 3",
   "language": "python",
   "name": "python3"
  },
  "language_info": {
   "codemirror_mode": {
    "name": "ipython",
    "version": 3
   },
   "file_extension": ".py",
   "mimetype": "text/x-python",
   "name": "python",
   "nbconvert_exporter": "python",
   "pygments_lexer": "ipython3",
   "version": "3.6.3"
  }
 },
 "nbformat": 4,
 "nbformat_minor": 2
}
